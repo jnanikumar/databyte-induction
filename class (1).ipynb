{
 "cells": [
  {
   "cell_type": "code",
   "execution_count": 3,
   "metadata": {},
   "outputs": [
    {
     "name": "stdout",
     "output_type": "stream",
     "text": [
      "enter the no.of inputs3\n",
      "enter the input1\n",
      "enter the input1\n",
      "enter the input1\n",
      "your input values are [1, 1, 1]\n",
      "enter the wegith1\n",
      "enter the wegith1\n",
      "enter the wegith1\n",
      "your weights are [1, 1, 1]\n",
      "enter the threshold2.5\n",
      "1\n",
      "None\n"
     ]
    }
   ],
   "source": [
    "class MPNeuron:\n",
    "    def mp_neuron_evaluate(self):\n",
    "        output=0\n",
    "        for i in range(self.n):\n",
    "            output+=self.l[i]*self.w[i]\n",
    "        if output>=t:\n",
    "            print(\"1\")\n",
    "        else:\n",
    "            print(\"0\")\n",
    "    def __init__(self,n,l,w,t):\n",
    "        self.n=n\n",
    "        self.l=l\n",
    "        self.w=w\n",
    "        self.t=t\n",
    "            \n",
    "n=int(input(\"enter the no.of inputs\"))\n",
    "l=[]\n",
    "for i in range(n):\n",
    "    a=int(input(\"enter the input\"))\n",
    "    l.append(a)\n",
    "print(\"your input values are\",l)\n",
    "    \n",
    "w=[]\n",
    "for j in range(n):\n",
    "    b=int(input(\"enter the wegith\"))\n",
    "    w.append(b)\n",
    "print(\"your weights are\",w)\n",
    "t=float(input(\"enter the threshold\"))\n",
    "test=MPNeuron(n,l,w,t)\n",
    "mp=test.mp_neuron_evaluate()\n",
    "print(mp)\n"
   ]
  },
  {
   "cell_type": "markdown",
   "metadata": {},
   "source": [
    "### "
   ]
  }
 ],
 "metadata": {
  "kernelspec": {
   "display_name": "Python 3",
   "language": "python",
   "name": "python3"
  },
  "language_info": {
   "codemirror_mode": {
    "name": "ipython",
    "version": 3
   },
   "file_extension": ".py",
   "mimetype": "text/x-python",
   "name": "python",
   "nbconvert_exporter": "python",
   "pygments_lexer": "ipython3",
   "version": "3.8.5"
  }
 },
 "nbformat": 4,
 "nbformat_minor": 4
}
