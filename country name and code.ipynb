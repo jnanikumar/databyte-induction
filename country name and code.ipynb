{
 "cells": [
  {
   "cell_type": "code",
   "execution_count": 1,
   "metadata": {},
   "outputs": [
    {
     "name": "stdout",
     "output_type": "stream",
     "text": [
      "enter 1 if you want to add a country name and code in dictonary else enter 01\n",
      "enter the country nameindian\n",
      "enter the country codein\n",
      "{'Ecuador': 'EC', 'Bangladesh': 'BD', 'Madagascar': 'MG', 'Saint Lucia': 'LC', 'Spain': 'ES', 'Mongolia': 'MN', 'Bulgaria': 'BG', 'Saint Barthélemy': 'BL', 'Cyprus': 'CY', 'Niue': 'NU', 'Greenland': 'GL', 'Belize': 'BZ', \"Korea, Democratic People's Republic of\": 'KP', 'Turkmenistan': 'TM', 'Viet Nam': 'VN', 'Latvia': 'LV', 'Tuvalu': 'TV', 'French Polynesia': 'PF', 'Cambodia': 'KH', 'Benin': 'BJ', 'Rwanda': 'RW', 'British Indian Ocean Territory': 'IO', 'Timor-Leste': 'TL', 'Bahamas': 'BS', 'Philippines': 'PH', 'Marshall Islands': 'MH', 'Sweden': 'SE', 'Guyana': 'GY', 'Mauritania': 'MR', 'Bolivia, Plurinational State of': 'BO', 'French Southern Territories': 'TF', 'Tokelau': 'TK', 'Peru': 'PE', 'Tajikistan': 'TJ', 'Israel': 'IL', 'Solomon Islands': 'SB', 'Mali': 'ML', 'Belgium': 'BE', 'Palau': 'PW', 'Haiti': 'HT', 'Hungary': 'HU', 'Seychelles': 'SC', 'Liechtenstein': 'LI', 'Denmark': 'DK', 'Iran, Islamic Republic of': 'IR', 'Costa Rica': 'CR', 'Algeria': 'DZ', 'Djibouti': 'DJ', 'Réunion': 'RE', 'Namibia': nan, 'Somalia': 'SO', 'Honduras': 'HN', 'Senegal': 'SN', 'Mauritius': 'MU', 'Saint Helena, Ascension and Tristan da Cunha': 'SH', 'United States': 'US', 'Central African Republic': 'CF', 'Niger': 'NE', 'Liberia': 'LR', 'Anguilla': 'AI', 'Western Sahara': 'EH', 'Saint Martin (French part)': 'MF', 'Taiwan, Province of China': 'TW', 'Suriname': 'SR', 'Nicaragua': 'NI', 'Macao': 'MO', 'Virgin Islands, British': 'VG', 'Fiji': 'FJ', 'Chile': 'CL', 'Russian Federation': 'RU', 'Bonaire, Sint Eustatius and Saba': 'BQ', 'Sint Maarten (Dutch part)': 'SX', 'Norfolk Island': 'NF', 'Martinique': 'MQ', 'Northern Mariana Islands': 'MP', 'Ethiopia': 'ET', 'Panama': 'PA', 'Tunisia': 'TN', 'Belarus': 'BY', 'Colombia': 'CO', 'Malta': 'MT', 'Slovakia': 'SK', 'Swaziland': 'SZ', 'Argentina': 'AR', 'Andorra': 'AD', 'Uruguay': 'UY', 'Saint Pierre and Miquelon': 'PM', 'Malawi': 'MW', 'Wallis and Futuna': 'WF', 'Uganda': 'UG', 'Mozambique': 'MZ', 'Chad': 'TD', 'Heard Island and McDonald Islands': 'HM', 'Puerto Rico': 'PR', 'Mayotte': 'YT', 'Pakistan': 'PK', 'Bermuda': 'BM', 'Grenada': 'GD', 'Georgia': 'GE', 'Slovenia': 'SI', 'Norway': 'NO', 'Iceland': 'IS', 'Syrian Arab Republic': 'SY', 'France': 'FR', 'Turkey': 'TR', 'Palestine, State of': 'PS', 'Dominica': 'DM', 'Cocos (Keeling) Islands': 'CC', 'Gibraltar': 'GI', 'Afghanistan': 'AF', 'Gabon': 'GA', 'Guernsey': 'GG', 'Iraq': 'IQ', 'Austria': 'AT', 'Czech Republic': 'CZ', 'Equatorial Guinea': 'GQ', 'Ghana': 'GH', 'Lesotho': 'LS', 'Singapore': 'SG', 'Italy': 'IT', 'Guam': 'GU', 'Eritrea': 'ER', 'Bouvet Island': 'BV', 'Kiribati': 'KI', 'Papua New Guinea': 'PG', 'Azerbaijan': 'AZ', 'Jordan': 'JO', 'Zambia': 'ZM', 'French Guiana': 'GF', 'Faroe Islands': 'FO', 'Luxembourg': 'LU', 'Togo': 'TG', 'Guatemala': 'GT', 'Saint Kitts and Nevis': 'KN', 'Kuwait': 'KW', 'Cayman Islands': 'KY', 'Comoros': 'KM', 'Dominican Republic': 'DO', 'Pitcairn': 'PN', 'Saint Vincent and the Grenadines': 'VC', 'Svalbard and Jan Mayen': 'SJ', 'Australia': 'AU', 'Sri Lanka': 'LK', 'Micronesia, Federated States of': 'FM', 'Sierra Leone': 'SL', 'Bhutan': 'BT', 'South Georgia and the South Sandwich Islands': 'GS', 'Barbados': 'BB', 'Indonesia': 'ID', 'Antarctica': 'AQ', 'Armenia': 'AM', 'Sao Tome and Principe': 'ST', 'Japan': 'JP', 'Brazil': 'BR', 'Burkina Faso': 'BF', 'Bosnia and Herzegovina': 'BA', 'Ireland': 'IE', 'Aruba': 'AW', 'China': 'CN', 'Kenya': 'KE', 'Ukraine': 'UA', 'Canada': 'CA', 'Qatar': 'QA', 'Brunei Darussalam': 'BN', 'Cook Islands': 'CK', \"Côte d'Ivoire\": 'CI', 'Virgin Islands, U.S.': 'VI', 'United Kingdom': 'GB', 'Cameroon': 'CM', 'San Marino': 'SM', 'Switzerland': 'CH', 'Guinea-Bissau': 'GW', 'Croatia': 'HR', 'Poland': 'PL', 'Romania': 'RO', 'Antigua and Barbuda': 'AG', 'Samoa': 'WS', 'United States Minor Outlying Islands': 'UM', 'Angola': 'AO', 'Gambia': 'GM', 'Myanmar': 'MM', 'Trinidad and Tobago': 'TT', 'Oman': 'OM', 'Morocco': 'MA', 'Kazakhstan': 'KZ', 'Egypt': 'EG', 'Monaco': 'MC', 'Guadeloupe': 'GP', 'New Zealand': 'NZ', 'United Arab Emirates': 'AE', 'Mexico': 'MX', 'Thailand': 'TH', 'Cape Verde': 'CV', 'Netherlands': 'NL', 'Tonga': 'TO', 'Hong Kong': 'HK', 'Lebanon': 'LB', 'Macedonia, the Former Yugoslav Republic of': 'MK', 'Saudi Arabia': 'SA', 'Tanzania, United Republic of': 'TZ', 'South Sudan': 'SS', 'Zimbabwe': 'ZW', 'Paraguay': 'PY', 'Greece': 'GR', \"Lao People's Democratic Republic\": 'LA', 'Bahrain': 'BH', 'Finland': 'FI', 'Falkland Islands (Malvinas)': 'FK', 'Christmas Island': 'CX', 'Portugal': 'PT', 'Libya': 'LY', 'Kyrgyzstan': 'KG', 'Serbia': 'RS', 'Congo, the Democratic Republic of the': 'CD', 'Curaçao': 'CW', 'Nauru': 'NR', 'Montenegro': 'ME', 'Venezuela, Bolivarian Republic of': 'VE', 'Sudan': 'SD', 'Vanuatu': 'VU', 'South Africa': 'ZA', 'New Caledonia': 'NC', 'Nigeria': 'NG', 'Jersey': 'JE', 'Moldova, Republic of': 'MD', 'Albania': 'AL', 'Åland Islands': 'AX', 'Isle of Man': 'IM', 'Congo': 'CG', 'Uzbekistan': 'UZ', 'American Samoa': 'AS', 'India': 'IN', 'Cuba': 'CU', 'Nepal': 'NP', 'Malaysia': 'MY', 'Burundi': 'BI', 'Montserrat': 'MS', 'Maldives': 'MV', 'Botswana': 'BW', 'Estonia': 'EE', 'Korea, Republic of': 'KR', 'Yemen': 'YE', 'Holy See (Vatican City State)': 'VA', 'Jamaica': 'JM', 'Guinea': 'GN', 'El Salvador': 'SV', 'Germany': 'DE', 'Turks and Caicos Islands': 'TC', 'Lithuania': 'LT', 'indian': 'in'}\n",
      "enter 1 if you want to sen cournties betweem two different countries in the dicto , ekse enter 00\n",
      "it seems you are not interested to see countirs in between any two\n"
     ]
    }
   ],
   "source": [
    "import pandas as pd\n",
    "data_set=pd.read_csv(\"C:\\\\Users\\\\Jnani kumar\\\\Downloads\\\\data_csv.csv\")\n",
    "dicto={}\n",
    "name=data_set[\"Name\"]\n",
    "code=data_set[\"Code\"]\n",
    "for i in range(249):\n",
    "    for j in range(249):\n",
    "        if i==j:\n",
    "            dicto[name[i]]=code[i]\n",
    "k=int(input(\"enter 1 if you want to add a country name and code in dictonary else enter 0\"))\n",
    "if k==1:\n",
    "    country_name=str(input(\"enter the country name\"))\n",
    "    country_code=str(input(\"enter the country code\"))\n",
    "    dicto[country_name]=country_code\n",
    "    print(dicto)\n",
    "else:\n",
    "    print(\"it seems you are not interested to add anything\")\n",
    "z=int(input(\"enter 1 if you want to sen cournties betweem two different countries in the dicto , ekse enter 0\"))\n",
    "if z==1:\n",
    "    country1=str(input(\"enter country1 name\"))\n",
    "    country2=str(input(\"enter country2 name\"))\n",
    "    countries=dicto[country1:country2]\n",
    "    print(countries)\n",
    "else:\n",
    "     print(\"it seems you are not interested to see countirs in between any two\")\n",
    "            "
   ]
  },
  {
   "cell_type": "code",
   "execution_count": null,
   "metadata": {},
   "outputs": [],
   "source": []
  }
 ],
 "metadata": {
  "kernelspec": {
   "display_name": "Python 3",
   "language": "python",
   "name": "python3"
  },
  "language_info": {
   "codemirror_mode": {
    "name": "ipython",
    "version": 3
   },
   "file_extension": ".py",
   "mimetype": "text/x-python",
   "name": "python",
   "nbconvert_exporter": "python",
   "pygments_lexer": "ipython3",
   "version": "3.8.5"
  }
 },
 "nbformat": 4,
 "nbformat_minor": 4
}
